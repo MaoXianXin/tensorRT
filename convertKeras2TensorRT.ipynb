{
 "cells": [
  {
   "cell_type": "code",
   "execution_count": 1,
   "metadata": {},
   "outputs": [
    {
     "name": "stdout",
     "output_type": "stream",
     "text": [
      "WARNING:tensorflow:From /home/mao/.virtualenvs/tf_quantization/lib/python3.6/site-packages/tensorflow_core/python/ops/resource_variable_ops.py:1630: calling BaseResourceVariable.__init__ (from tensorflow.python.ops.resource_variable_ops) with constraint is deprecated and will be removed in a future version.\n",
      "Instructions for updating:\n",
      "If using Keras pass *_constraint arguments to layers.\n"
     ]
    }
   ],
   "source": [
    "import os\n",
    "from tensorflow.keras.applications.mobilenet_v2 import MobileNetV2 as Net\n",
    "\n",
    "model = Net(weights='imagenet')\n",
    "\n",
    "os.makedirs('./model', exist_ok=True)\n",
    "\n",
    "# Save the h5 file to path specified.\n",
    "model.save(\"./model/model.h5\")"
   ]
  },
  {
   "cell_type": "code",
   "execution_count": null,
   "metadata": {},
   "outputs": [],
   "source": []
  },
  {
   "cell_type": "code",
   "execution_count": 2,
   "metadata": {
    "scrolled": true
   },
   "outputs": [
    {
     "name": "stdout",
     "output_type": "stream",
     "text": [
      "WARNING:tensorflow:From /home/mao/.virtualenvs/tf_quantization/lib/python3.6/site-packages/tensorflow_core/python/ops/init_ops.py:97: calling GlorotUniform.__init__ (from tensorflow.python.ops.init_ops) with dtype is deprecated and will be removed in a future version.\n",
      "Instructions for updating:\n",
      "Call initializer instance with the dtype argument instead of passing it to the constructor\n",
      "WARNING:tensorflow:From /home/mao/.virtualenvs/tf_quantization/lib/python3.6/site-packages/tensorflow_core/python/ops/init_ops.py:97: calling Zeros.__init__ (from tensorflow.python.ops.init_ops) with dtype is deprecated and will be removed in a future version.\n",
      "Instructions for updating:\n",
      "Call initializer instance with the dtype argument instead of passing it to the constructor\n",
      "WARNING:tensorflow:From /home/mao/.virtualenvs/tf_quantization/lib/python3.6/site-packages/tensorflow_core/python/ops/init_ops.py:97: calling Ones.__init__ (from tensorflow.python.ops.init_ops) with dtype is deprecated and will be removed in a future version.\n",
      "Instructions for updating:\n",
      "Call initializer instance with the dtype argument instead of passing it to the constructor\n",
      "WARNING:tensorflow:No training configuration found in save file: the model was *not* compiled. Compile it manually.\n",
      "['input_1'] ['Logits/Softmax']\n",
      "WARNING:tensorflow:From <ipython-input-2-c92b2e4bd3bd>:13: remove_training_nodes (from tensorflow.python.framework.graph_util_impl) is deprecated and will be removed in a future version.\n",
      "Instructions for updating:\n",
      "Use `tf.compat.v1.graph_util.remove_training_nodes`\n",
      "WARNING:tensorflow:From <ipython-input-2-c92b2e4bd3bd>:14: convert_variables_to_constants (from tensorflow.python.framework.graph_util_impl) is deprecated and will be removed in a future version.\n",
      "Instructions for updating:\n",
      "Use `tf.compat.v1.graph_util.convert_variables_to_constants`\n",
      "WARNING:tensorflow:From /home/mao/.virtualenvs/tf_quantization/lib/python3.6/site-packages/tensorflow_core/python/framework/graph_util_impl.py:277: extract_sub_graph (from tensorflow.python.framework.graph_util_impl) is deprecated and will be removed in a future version.\n",
      "Instructions for updating:\n",
      "Use `tf.compat.v1.graph_util.extract_sub_graph`\n",
      "INFO:tensorflow:Froze 262 variables.\n",
      "INFO:tensorflow:Converted 262 variables to const ops.\n"
     ]
    }
   ],
   "source": [
    "import tensorflow as tf\n",
    "from tensorflow.python.framework import graph_io\n",
    "from tensorflow.keras.models import load_model\n",
    "\n",
    "\n",
    "# Clear any previous session.\n",
    "tf.keras.backend.clear_session()\n",
    "\n",
    "save_pb_dir = './model'\n",
    "model_fname = './model/model.h5'\n",
    "def freeze_graph(graph, session, output, save_pb_dir='.', save_pb_name='frozen_model.pb', save_pb_as_text=False):\n",
    "    with graph.as_default():\n",
    "        graphdef_inf = tf.graph_util.remove_training_nodes(graph.as_graph_def())\n",
    "        graphdef_frozen = tf.graph_util.convert_variables_to_constants(session, graphdef_inf, output)\n",
    "        graph_io.write_graph(graphdef_frozen, save_pb_dir, save_pb_name, as_text=save_pb_as_text)\n",
    "        return graphdef_frozen\n",
    "\n",
    "# This line must be executed before loading Keras model.\n",
    "tf.keras.backend.set_learning_phase(0) \n",
    "\n",
    "model = load_model(model_fname)\n",
    "\n",
    "session = tf.keras.backend.get_session()\n",
    "\n",
    "input_names = [t.op.name for t in model.inputs]\n",
    "output_names = [t.op.name for t in model.outputs]\n",
    "\n",
    "# Prints input and output nodes names, take notes of them.\n",
    "print(input_names, output_names)\n",
    "\n",
    "frozen_graph = freeze_graph(session.graph, session, [out.op.name for out in model.outputs], save_pb_dir=save_pb_dir)"
   ]
  },
  {
   "cell_type": "code",
   "execution_count": 3,
   "metadata": {},
   "outputs": [
    {
     "data": {
      "text/plain": [
       "['input_1']"
      ]
     },
     "execution_count": 3,
     "metadata": {},
     "output_type": "execute_result"
    }
   ],
   "source": [
    "input_names"
   ]
  },
  {
   "cell_type": "code",
   "execution_count": 4,
   "metadata": {},
   "outputs": [
    {
     "data": {
      "text/plain": [
       "['Logits/Softmax']"
      ]
     },
     "execution_count": 4,
     "metadata": {},
     "output_type": "execute_result"
    }
   ],
   "source": [
    "output_names"
   ]
  },
  {
   "cell_type": "code",
   "execution_count": null,
   "metadata": {},
   "outputs": [],
   "source": []
  },
  {
   "cell_type": "code",
   "execution_count": 5,
   "metadata": {},
   "outputs": [
    {
     "name": "stdout",
     "output_type": "stream",
     "text": [
      "WARNING:tensorflow:\n",
      "The TensorFlow contrib module will not be included in TensorFlow 2.0.\n",
      "For more information, please see:\n",
      "  * https://github.com/tensorflow/community/blob/master/rfcs/20180907-contrib-sunset.md\n",
      "  * https://github.com/tensorflow/addons\n",
      "  * https://github.com/tensorflow/io (for I/O related ops)\n",
      "If you depend on functionality not listed there, please file an issue.\n",
      "\n",
      "INFO:tensorflow:Linked TensorRT version: (5, 1, 5)\n",
      "INFO:tensorflow:Loaded TensorRT version: (5, 1, 5)\n",
      "INFO:tensorflow:Running against TensorRT version 5.1.5\n"
     ]
    }
   ],
   "source": [
    "import tensorflow.contrib.tensorrt as trt\n",
    "\n",
    "trt_graph = trt.create_inference_graph(\n",
    "    input_graph_def=frozen_graph,\n",
    "    outputs=output_names,\n",
    "    max_batch_size=1,\n",
    "    max_workspace_size_bytes=1 << 25,\n",
    "    precision_mode='FP32',\n",
    "    minimum_segment_size=50\n",
    ")"
   ]
  },
  {
   "cell_type": "code",
   "execution_count": 6,
   "metadata": {},
   "outputs": [
    {
     "data": {
      "text/plain": [
       "'./model/trt_graph.pb'"
      ]
     },
     "execution_count": 6,
     "metadata": {},
     "output_type": "execute_result"
    }
   ],
   "source": [
    "from tensorflow.python.framework import graph_io\n",
    "graph_io.write_graph(trt_graph, \"./model/\",\n",
    "                     \"trt_graph.pb\", as_text=False)"
   ]
  },
  {
   "cell_type": "code",
   "execution_count": null,
   "metadata": {},
   "outputs": [],
   "source": []
  },
  {
   "cell_type": "code",
   "execution_count": null,
   "metadata": {},
   "outputs": [],
   "source": []
  },
  {
   "cell_type": "code",
   "execution_count": null,
   "metadata": {},
   "outputs": [],
   "source": []
  },
  {
   "cell_type": "code",
   "execution_count": 1,
   "metadata": {},
   "outputs": [
    {
     "name": "stdout",
     "output_type": "stream",
     "text": [
      "WARNING:tensorflow:From <ipython-input-1-816a4350ba2f>:9: FastGFile.__init__ (from tensorflow.python.platform.gfile) is deprecated and will be removed in a future version.\n",
      "Instructions for updating:\n",
      "Use tf.gfile.GFile.\n",
      "image_size: [224, 224, 3]\n",
      "input_tensor_name: input_1:0\n",
      "output_tensor_name: Logits/Softmax:0\n"
     ]
    }
   ],
   "source": [
    "output_names = ['Logits/Softmax']\n",
    "input_names = ['input_1']\n",
    "\n",
    "import tensorflow as tf\n",
    "\n",
    "\n",
    "def get_frozen_graph(graph_file):\n",
    "    \"\"\"Read Frozen Graph file from disk.\"\"\"\n",
    "    with tf.gfile.FastGFile(graph_file, \"rb\") as f:\n",
    "        graph_def = tf.GraphDef()\n",
    "        graph_def.ParseFromString(f.read())\n",
    "    return graph_def\n",
    "\n",
    "\n",
    "trt_graph = get_frozen_graph('./model/trt_graph.pb')\n",
    "\n",
    "# Create session and load graph\n",
    "tf_config = tf.ConfigProto()\n",
    "tf_config.gpu_options.allow_growth = True\n",
    "tf_sess = tf.Session(config=tf_config)\n",
    "tf.import_graph_def(trt_graph, name='')\n",
    "\n",
    "\n",
    "# Get graph input size\n",
    "for node in trt_graph.node:\n",
    "    if 'input_' in node.name:\n",
    "        size = node.attr['shape'].shape\n",
    "        image_size = [size.dim[i].size for i in range(1, 4)]\n",
    "        break\n",
    "print(\"image_size: {}\".format(image_size))\n",
    "\n",
    "\n",
    "# input and output tensor names.\n",
    "input_tensor_name = input_names[0] + \":0\"\n",
    "output_tensor_name = output_names[0] + \":0\"\n",
    "\n",
    "print(\"input_tensor_name: {}\\noutput_tensor_name: {}\".format(\n",
    "    input_tensor_name, output_tensor_name))\n",
    "\n",
    "output_tensor = tf_sess.graph.get_tensor_by_name(output_tensor_name)"
   ]
  },
  {
   "cell_type": "code",
   "execution_count": 2,
   "metadata": {},
   "outputs": [
    {
     "name": "stdout",
     "output_type": "stream",
     "text": [
      "Predicted: [('n02504458', 'African_elephant', 0.5241106), ('n01871265', 'tusker', 0.17158976), ('n02504013', 'Indian_elephant', 0.15654081)]\n"
     ]
    }
   ],
   "source": [
    "from tensorflow.keras.preprocessing import image\n",
    "from tensorflow.keras.applications.mobilenet_v2 import preprocess_input, decode_predictions\n",
    "import numpy as np\n",
    "\n",
    "# Optional image to test model prediction.\n",
    "img_path = './data/elephant.jpg'\n",
    "\n",
    "img = image.load_img(img_path, target_size=image_size[:2])\n",
    "x = image.img_to_array(img)\n",
    "x = np.expand_dims(x, axis=0)\n",
    "x = preprocess_input(x)\n",
    "\n",
    "feed_dict = {\n",
    "    input_tensor_name: x\n",
    "}\n",
    "preds = tf_sess.run(output_tensor, feed_dict)\n",
    "\n",
    "# decode the results into a list of tuples (class, description, probability)\n",
    "# (one such list for each sample in the batch)\n",
    "print('Predicted:', decode_predictions(preds, top=3)[0])"
   ]
  },
  {
   "cell_type": "code",
   "execution_count": 3,
   "metadata": {},
   "outputs": [
    {
     "name": "stdout",
     "output_type": "stream",
     "text": [
      "average(sec):0.00,fps:434.85\n"
     ]
    }
   ],
   "source": [
    "# test FP16 TR-TRT\n",
    "import time\n",
    "times = []\n",
    "\n",
    "one_prediction = tf_sess.run(output_tensor, feed_dict)\n",
    "\n",
    "for i in range(200):\n",
    "    start_time = time.time()\n",
    "    one_prediction = tf_sess.run(output_tensor, feed_dict)\n",
    "    delta = (time.time() - start_time)\n",
    "    times.append(delta)\n",
    "mean_delta = np.array(times).mean()\n",
    "fps = 1 / mean_delta\n",
    "print('average(sec):{:.2f},fps:{:.2f}'.format(mean_delta, fps))"
   ]
  },
  {
   "cell_type": "code",
   "execution_count": 3,
   "metadata": {},
   "outputs": [
    {
     "name": "stdout",
     "output_type": "stream",
     "text": [
      "average(sec):0.00,fps:272.42\n"
     ]
    }
   ],
   "source": [
    "# test FP32\n",
    "import time\n",
    "times = []\n",
    "\n",
    "one_prediction = tf_sess.run(output_tensor, feed_dict)\n",
    "\n",
    "for i in range(200):\n",
    "    start_time = time.time()\n",
    "    one_prediction = tf_sess.run(output_tensor, feed_dict)\n",
    "    delta = (time.time() - start_time)\n",
    "    times.append(delta)\n",
    "mean_delta = np.array(times).mean()\n",
    "fps = 1 / mean_delta\n",
    "print('average(sec):{:.2f},fps:{:.2f}'.format(mean_delta, fps))"
   ]
  },
  {
   "cell_type": "code",
   "execution_count": 3,
   "metadata": {},
   "outputs": [
    {
     "name": "stdout",
     "output_type": "stream",
     "text": [
      "[[2.48120079e-04 1.44475765e-04 4.26392326e-05 9.49431778e-05\n",
      "  1.64853045e-04 1.43113764e-04 1.52562177e-04 2.97887073e-05\n",
      "  1.32943742e-05 6.77644275e-05 3.37749625e-05 4.47046696e-05\n",
      "  5.84257796e-05 2.92381574e-05 6.70682057e-05 8.50238430e-05\n",
      "  1.14919276e-04 6.61836166e-05 8.38351698e-05 8.47236297e-05\n",
      "  5.60509980e-05 9.54317438e-05 1.31356253e-04 4.61354139e-05\n",
      "  2.08447949e-04 9.06247878e-05 8.87341594e-05 1.30184097e-04\n",
      "  5.93808982e-05 7.68957616e-05 6.63713436e-05 6.33821255e-05\n",
      "  7.27094230e-05 1.79737835e-04 2.31868835e-04 4.35032009e-04\n",
      "  2.59438442e-04 1.27681807e-04 8.77550046e-05 9.89781183e-05\n",
      "  3.02576391e-05 4.63254728e-05 6.35501492e-05 2.87439063e-04\n",
      "  1.13533526e-04 9.19483136e-05 9.10659510e-05 1.25720268e-04\n",
      "  2.35271742e-04 5.39930297e-05 9.97695388e-05 2.82283267e-03\n",
      "  2.31692335e-04 9.99316107e-05 7.94608786e-05 1.41412980e-04\n",
      "  9.61551777e-05 8.59367792e-05 2.80167187e-05 2.21998373e-04\n",
      "  3.69808040e-05 2.10869075e-05 2.24530177e-05 1.17465803e-04\n",
      "  1.41538738e-04 2.57551092e-05 7.77337991e-05 5.13417064e-04\n",
      "  1.57610819e-04 1.58021471e-03 1.98334164e-04 5.33887360e-05\n",
      "  2.02469528e-04 1.58190262e-04 1.05959400e-04 1.06886728e-04\n",
      "  5.71425007e-05 5.53057107e-05 1.45461090e-04 2.55566065e-05\n",
      "  4.71881031e-05 1.46273480e-04 7.50740073e-05 9.47320732e-05\n",
      "  4.43003410e-05 6.49549038e-05 3.92903166e-05 3.62812512e-04\n",
      "  5.69157884e-04 6.31758012e-05 9.36469951e-05 9.57377561e-05\n",
      "  8.66660630e-05 8.02137365e-05 4.22869634e-05 7.95401065e-05\n",
      "  9.69420507e-05 3.78717159e-05 6.59769867e-05 9.88416214e-05\n",
      "  2.20863003e-04 1.71589762e-01 3.08371062e-04 1.52131461e-05\n",
      "  2.31034483e-05 8.45905015e-05 1.66946207e-04 1.49979212e-04\n",
      "  8.57243722e-05 2.87710427e-04 1.96919413e-04 6.32722076e-05\n",
      "  1.23053454e-04 9.21999672e-05 3.10939795e-05 3.67089742e-05\n",
      "  2.56809162e-05 3.00521788e-04 2.75932271e-05 1.28272281e-04\n",
      "  2.43908889e-05 1.52721739e-04 7.58259339e-05 1.93588232e-04\n",
      "  2.06945551e-04 7.18935218e-04 1.48742693e-04 4.21353179e-04\n",
      "  1.68994025e-04 6.56274497e-05 1.59492411e-04 1.44729507e-04\n",
      "  1.63722463e-04 1.07828251e-04 7.15103233e-05 4.55090740e-05\n",
      "  7.31079126e-05 6.28279231e-05 5.04602576e-05 4.81161442e-05\n",
      "  5.08391022e-05 1.29754859e-04 4.24196078e-05 8.74497346e-05\n",
      "  5.23585986e-05 8.40445864e-05 9.49589303e-05 1.07660766e-04\n",
      "  1.73518943e-04 3.69996240e-04 1.79540730e-05 4.29627180e-05\n",
      "  4.02765145e-04 3.77818185e-04 3.13219905e-04 2.85574934e-04\n",
      "  3.46802146e-04 2.96348648e-04 4.22873673e-05 7.63904100e-05\n",
      "  1.05838008e-04 7.54162247e-05 1.10146611e-04 5.88637486e-05\n",
      "  5.58962493e-05 1.34810136e-04 7.05951461e-05 4.04132370e-05\n",
      "  1.80474366e-04 2.04822281e-05 9.58396049e-05 1.09260000e-05\n",
      "  2.42732553e-04 9.10548333e-05 1.60994765e-04 8.08147961e-05\n",
      "  9.69087778e-05 1.46011262e-05 1.23757345e-04 1.47202969e-04\n",
      "  3.73418588e-05 2.20819609e-04 3.93874107e-05 3.48581118e-04\n",
      "  9.38611338e-05 1.53493329e-05 4.50075822e-05 5.24626594e-05\n",
      "  1.54153851e-04 1.52346576e-04 3.67744826e-04 9.46810469e-05\n",
      "  1.16066069e-04 7.35765425e-05 1.40397373e-04 1.00988822e-04\n",
      "  3.80296755e-04 2.90747709e-03 8.81692104e-04 1.09629975e-04\n",
      "  1.72623390e-04 6.24498498e-05 7.88716061e-05 1.57222297e-04\n",
      "  7.88595717e-05 1.48850100e-04 5.47163472e-05 1.02606769e-04\n",
      "  1.59090443e-04 5.70237644e-05 1.04966006e-04 1.08034117e-04\n",
      "  7.57132802e-05 1.70639250e-04 2.59821856e-04 3.47173955e-05\n",
      "  7.40239484e-05 6.41694569e-05 7.74073415e-05 1.60368349e-04\n",
      "  1.36120638e-04 2.70532299e-04 1.35159906e-04 4.51413980e-05\n",
      "  8.20976202e-05 8.33744853e-05 3.31561285e-04 6.55689510e-05\n",
      "  1.39750162e-04 2.57105101e-04 3.41941159e-05 1.57435803e-04\n",
      "  1.16547897e-04 3.82030674e-04 6.91300302e-05 2.08061771e-04\n",
      "  2.82241799e-05 4.82055657e-05 1.08279812e-04 8.79849540e-05\n",
      "  1.06557884e-04 1.06174557e-04 5.06808574e-05 1.07998676e-04\n",
      "  1.59789895e-04 1.63978737e-04 1.68988379e-04 6.29682181e-05\n",
      "  4.92399013e-05 1.29307693e-04 2.07779303e-04 6.06505637e-05\n",
      "  2.08127647e-04 6.58172939e-05 1.82963791e-04 1.29272288e-04\n",
      "  1.68371131e-04 1.18257674e-04 1.12964248e-04 2.21091337e-04\n",
      "  2.00166236e-04 1.20068988e-04 1.78922666e-04 1.86882724e-04\n",
      "  4.89351442e-05 1.22340498e-04 5.97732760e-05 1.26941668e-04\n",
      "  1.04423350e-04 2.18065252e-05 6.53411116e-05 4.52476852e-05\n",
      "  2.32949333e-05 7.69665639e-05 7.92481442e-05 6.36197001e-05\n",
      "  3.86890388e-05 1.31810521e-04 6.40669095e-05 2.79667729e-05\n",
      "  8.32212463e-05 1.65869264e-04 1.48075924e-04 2.07645979e-04\n",
      "  8.50944198e-05 7.34129455e-04 1.32553629e-04 4.49937215e-05\n",
      "  1.69643317e-04 1.07452332e-04 1.33630485e-04 1.77512760e-04\n",
      "  9.13625772e-05 1.10536712e-04 1.28194137e-04 1.58550785e-04\n",
      "  1.16984862e-04 1.58719471e-04 1.30963992e-04 8.53084421e-05\n",
      "  1.92220337e-04 2.67677096e-04 5.81337117e-05 3.90588793e-05\n",
      "  2.10477403e-04 8.68811476e-05 7.17748699e-05 8.97822683e-05\n",
      "  7.00912860e-05 7.64487777e-05 2.23582232e-04 4.77663853e-05\n",
      "  5.47927484e-05 6.02131331e-05 4.33600871e-05 1.30439119e-04\n",
      "  1.63834935e-04 2.30079677e-04 3.56690609e-04 1.06311942e-04\n",
      "  8.30421486e-05 1.29313106e-04 7.38181698e-05 1.28009793e-04\n",
      "  2.28475736e-04 2.20299233e-04 5.40124252e-04 6.03816770e-05\n",
      "  3.44683707e-04 1.85917277e-04 3.79186240e-05 2.14770262e-05\n",
      "  8.45912291e-05 6.38561032e-05 2.46564421e-04 7.66488010e-05\n",
      "  9.50547037e-05 2.06943187e-05 7.53781933e-05 6.09093113e-05\n",
      "  3.04674264e-04 5.66892668e-05 4.65866906e-05 2.56341591e-04\n",
      "  2.57465173e-04 4.60964875e-05 4.04566003e-04 7.12002802e-05\n",
      "  1.37835275e-04 1.06408312e-04 2.93772919e-05 6.85386331e-05\n",
      "  9.22134277e-05 5.65413284e-05 8.20103669e-05 4.39166652e-05\n",
      "  2.10408634e-05 7.59441828e-05 6.44089960e-05 3.84642190e-05\n",
      "  1.12955895e-05 5.19145397e-05 5.90045383e-05 2.55548046e-04\n",
      "  4.45560836e-05 1.48868858e-04 2.22460279e-04 3.11391428e-04\n",
      "  9.20081293e-05 1.67399296e-04 9.63694474e-05 5.45187795e-05\n",
      "  7.57210073e-05 1.14600247e-04 1.18132433e-04 1.03340528e-04\n",
      "  6.45175678e-05 5.47657364e-05 9.50663089e-05 7.56898153e-05\n",
      "  1.84564342e-04 4.09542408e-05 5.99860541e-05 2.71528461e-05\n",
      "  3.50456903e-05 1.56540811e-01 5.24110615e-01 4.65898447e-05\n",
      "  1.25356310e-04 1.40169795e-04 2.99151379e-05 1.81578638e-04\n",
      "  1.75814654e-04 1.63327917e-04 1.05463892e-04 7.51214175e-05\n",
      "  6.54114338e-05 5.13518680e-05 5.21859147e-05 1.42802382e-04\n",
      "  4.20605211e-05 2.75539554e-04 1.59488307e-04 9.07699286e-05\n",
      "  4.76304667e-05 1.21153309e-04 3.17642465e-04 7.31171094e-05\n",
      "  1.77250971e-04 9.25821078e-05 1.53579953e-04 4.38462375e-05\n",
      "  2.50364956e-05 2.17200184e-04 5.78573308e-05 7.92160281e-05\n",
      "  2.49648147e-04 3.32269497e-04 1.01735772e-04 1.06029853e-04\n",
      "  8.15992316e-05 3.63992767e-05 5.44610994e-05 2.48614051e-05\n",
      "  9.78260687e-06 6.24168606e-05 4.12250374e-04 7.91643761e-05\n",
      "  7.47865997e-05 7.75513545e-05 6.28894850e-05 1.16113122e-04\n",
      "  2.37364395e-04 9.27425863e-05 8.14796294e-05 1.51701111e-04\n",
      "  8.72113742e-05 9.68549139e-05 1.86471909e-04 7.49249521e-05\n",
      "  6.41871447e-05 2.07363497e-04 1.40985721e-04 1.48056875e-04\n",
      "  4.19433600e-05 1.93487082e-04 2.60454344e-05 8.32603488e-04\n",
      "  4.90526108e-05 7.05678322e-05 9.92401692e-06 1.90185121e-04\n",
      "  7.98102992e-05 5.66595445e-05 1.47333441e-04 4.94446904e-05\n",
      "  2.96332233e-04 9.87526801e-05 5.75790822e-04 2.36518936e-05\n",
      "  9.90708650e-05 1.58352530e-04 1.33668334e-04 5.83316905e-05\n",
      "  5.77111350e-05 6.38046549e-05 1.68777566e-04 6.11957803e-05\n",
      "  7.47995800e-05 1.89591410e-05 1.93323853e-04 5.07069577e-04\n",
      "  8.39613567e-05 1.26923886e-04 2.89808726e-04 3.22015658e-05\n",
      "  2.03096006e-05 4.47166967e-05 2.81965797e-04 1.24873899e-04\n",
      "  1.04209765e-04 5.91807693e-05 1.32630128e-04 7.96337627e-05\n",
      "  1.47933795e-04 3.76914504e-05 2.82512454e-04 3.79738485e-05\n",
      "  1.20551689e-04 3.83805600e-05 8.48903670e-04 3.36838828e-04\n",
      "  1.02738755e-04 1.42187317e-04 1.02303762e-04 2.45354546e-04\n",
      "  1.60626412e-04 1.11027461e-04 1.25636361e-04 1.04549108e-04\n",
      "  7.70394108e-05 1.70275773e-04 1.21431389e-04 1.04574028e-04\n",
      "  6.48639761e-05 1.00673235e-04 7.36522197e-05 2.11618899e-05\n",
      "  2.81544053e-04 1.99271803e-04 3.29970499e-04 3.40358056e-05\n",
      "  3.35341792e-05 1.35063005e-04 2.31508136e-04 1.40123549e-04\n",
      "  5.08239245e-05 1.98438313e-04 1.11984082e-04 4.17436750e-05\n",
      "  2.31283702e-04 7.25376594e-05 1.12030764e-04 6.76994459e-05\n",
      "  2.44811352e-04 9.45874563e-05 2.83023201e-05 6.11182622e-05\n",
      "  2.04788317e-04 8.68483403e-05 2.07069650e-04 1.12849681e-04\n",
      "  9.67013402e-05 1.29059568e-04 1.93313710e-04 1.32626592e-04\n",
      "  1.06071529e-04 5.80850501e-05 1.58376090e-04 2.58449891e-05\n",
      "  3.31572955e-04 1.90924111e-04 1.15215022e-04 1.33918918e-04\n",
      "  3.73734583e-05 1.00402324e-03 5.61447778e-05 1.18490672e-04\n",
      "  7.43000637e-05 7.17137082e-05 4.15989227e-04 9.52501650e-05\n",
      "  1.02741993e-04 5.71109013e-05 9.96540039e-05 3.35022814e-05\n",
      "  5.95098136e-05 6.21337458e-05 2.45837495e-04 8.25485768e-05\n",
      "  1.72122818e-04 5.09799938e-05 8.63852620e-05 6.05539281e-05\n",
      "  8.43196394e-05 6.06956346e-05 1.77312599e-04 2.06027413e-04\n",
      "  1.08563123e-04 1.02878475e-04 1.29776032e-04 7.68185855e-05\n",
      "  1.38433033e-05 2.93305129e-05 4.86968143e-04 5.07927689e-05\n",
      "  1.60198742e-05 2.86343944e-04 2.40629146e-04 6.16484540e-05\n",
      "  4.20259239e-05 1.76939953e-04 6.79465302e-05 1.00370198e-04\n",
      "  5.90121044e-06 1.11473637e-05 4.37993003e-05 6.26463385e-04\n",
      "  1.06333639e-04 3.18196981e-05 5.10378850e-05 3.87057589e-05\n",
      "  1.94501932e-04 3.17362646e-05 3.19586950e-04 4.20649216e-04\n",
      "  2.53201986e-04 1.06867068e-04 1.90568011e-04 1.20533754e-04\n",
      "  1.10998131e-04 6.45165273e-05 1.31978566e-04 2.74328835e-04\n",
      "  1.99750983e-04 1.25454739e-04 9.06893765e-05 5.28934506e-05\n",
      "  1.66815065e-04 2.80157983e-04 6.54446922e-05 3.64019477e-04\n",
      "  1.48470310e-04 8.83760003e-05 1.56407856e-04 7.36674556e-05\n",
      "  1.76558839e-04 8.16286483e-05 4.09589302e-05 7.65586519e-05\n",
      "  4.49187755e-05 3.05680369e-05 2.41184229e-04 7.50918407e-05\n",
      "  3.29117393e-05 1.24744634e-04 9.08476941e-05 2.08660367e-05\n",
      "  1.59297982e-04 3.80366982e-05 2.14914708e-05 1.29746433e-04\n",
      "  1.18120042e-04 1.86641657e-04 8.38865162e-05 1.26266619e-04\n",
      "  8.74418183e-05 4.44284487e-05 8.99746083e-05 1.54724272e-04\n",
      "  1.02079030e-04 1.77375681e-04 6.09865019e-05 5.59810142e-05\n",
      "  8.40329667e-05 1.17495380e-04 1.93248736e-04 3.52593052e-04\n",
      "  2.61406181e-04 2.77813058e-03 2.44396688e-05 1.20468823e-04\n",
      "  3.02262488e-04 8.56018378e-05 6.48982532e-05 6.73242175e-05\n",
      "  1.06116859e-04 1.12332877e-04 8.88505092e-05 2.20048518e-04\n",
      "  5.40012697e-05 7.30430183e-05 5.23297931e-05 3.61927305e-05\n",
      "  7.45099605e-05 1.00421326e-04 5.46881580e-04 4.16949370e-05\n",
      "  7.98679393e-05 2.38768160e-04 1.75083958e-04 2.23504205e-04\n",
      "  3.89574678e-04 2.58569635e-04 3.67990251e-05 1.08069456e-04\n",
      "  6.98145595e-05 6.86986386e-05 6.29252463e-05 4.56785638e-05\n",
      "  1.65335310e-04 7.24076526e-05 5.72537479e-04 1.35398572e-04\n",
      "  6.73558097e-05 1.18053154e-04 1.31995446e-04 7.90843114e-05\n",
      "  1.16382631e-04 7.54146458e-05 1.29374050e-04 1.60892712e-04\n",
      "  1.35578070e-04 1.53193338e-04 2.58287182e-04 1.13339665e-04\n",
      "  3.18210623e-05 1.77573442e-04 4.13258676e-05 2.42895199e-04\n",
      "  1.50057196e-04 3.65302054e-04 9.82950951e-05 2.32378763e-04\n",
      "  6.00586900e-05 2.49236968e-04 4.59757539e-05 2.17320048e-04\n",
      "  1.62970775e-03 3.16807746e-05 3.02221539e-04 4.38102070e-05\n",
      "  9.07715730e-05 1.86676538e-04 5.47731295e-04 1.71862499e-04\n",
      "  2.08877773e-05 2.10597966e-04 1.80953808e-04 2.42341503e-05\n",
      "  3.57476056e-05 2.03716176e-04 2.84500362e-04 8.47302581e-05\n",
      "  1.36969014e-04 7.86163582e-05 3.20253166e-05 1.07810360e-04\n",
      "  1.25368038e-04 3.24274879e-05 4.77547219e-05 4.39454088e-05\n",
      "  9.32856274e-05 2.14585394e-04 2.61506560e-04 7.61286647e-05\n",
      "  1.59882868e-04 5.29661884e-05 5.35406798e-05 1.44985635e-04\n",
      "  4.14877686e-05 1.33754540e-04 2.68137781e-04 6.01242464e-05\n",
      "  1.00232166e-04 4.36868781e-04 6.26213659e-05 2.90143016e-05\n",
      "  2.24530177e-05 3.63243671e-05 2.65362731e-04 2.42401598e-04\n",
      "  1.81199197e-04 6.77214630e-05 2.39577435e-04 9.35779768e-04\n",
      "  4.90255334e-05 1.07403561e-04 8.19755005e-05 1.60458279e-04\n",
      "  9.48873276e-05 9.66961743e-05 2.95732734e-05 1.07127984e-04\n",
      "  8.29466226e-05 2.40397014e-04 9.93933718e-05 1.15710201e-04\n",
      "  1.00716155e-04 6.17993283e-05 6.03751687e-05 1.26059313e-04\n",
      "  8.60392829e-05 3.78519617e-05 6.25401372e-05 1.07878855e-04\n",
      "  1.93881438e-04 4.50212356e-05 9.26988141e-05 4.88831392e-05\n",
      "  1.54605106e-04 1.18314863e-04 1.80009898e-04 3.11214797e-04\n",
      "  3.13109376e-05 3.96751020e-05 6.11581418e-05 7.97586807e-04\n",
      "  1.84612127e-05 1.74545479e-04 5.76242383e-05 3.83724037e-05\n",
      "  8.01559145e-05 1.60277676e-04 1.89067869e-04 6.53477764e-05\n",
      "  7.52559426e-05 1.35846742e-04 2.08579586e-04 7.83793439e-05\n",
      "  1.58145776e-04 1.63048258e-04 9.77247546e-05 3.90158384e-05\n",
      "  7.06705905e-05 1.70723404e-04 4.08796368e-05 3.84840154e-04\n",
      "  5.62586007e-04 9.89242399e-05 9.73946444e-05 3.47743917e-05\n",
      "  5.67225252e-05 2.90517382e-05 1.35342023e-04 2.96390324e-04\n",
      "  4.06181716e-05 1.83209006e-04 1.00851292e-04 6.77936478e-05\n",
      "  6.88116779e-05 7.81277777e-05 4.26240695e-05 9.31835602e-05\n",
      "  6.83582766e-05 8.99286315e-05 6.40577418e-05 6.80716403e-05\n",
      "  8.30244171e-05 2.26775228e-04 1.74804518e-04 9.20923121e-05\n",
      "  9.11743991e-05 1.97909816e-04 2.70752353e-04 3.90038622e-04\n",
      "  5.25429750e-05 3.99306009e-05 5.82963767e-05 4.44923098e-05\n",
      "  2.66140414e-04 1.01810787e-04 8.38334236e-05 1.06073850e-04\n",
      "  1.10684290e-04 1.33432241e-05 6.78287688e-05 2.82250170e-04\n",
      "  8.69549258e-05 8.85199843e-05 1.92994106e-04 5.04920317e-05\n",
      "  3.43930260e-05 1.25393373e-04 4.55169757e-05 2.65493363e-05\n",
      "  1.44451376e-04 3.48432717e-04 6.04326633e-05 4.68137405e-05\n",
      "  9.47759909e-05 2.45652453e-04 2.38925451e-04 2.74081744e-04\n",
      "  2.47051757e-05 2.96475017e-04 8.98671642e-05 1.41521057e-04\n",
      "  3.12343509e-05 9.69400280e-05 8.08567347e-05 1.10922570e-04\n",
      "  1.42689110e-04 1.57313334e-04 1.08114305e-04 8.09339617e-05\n",
      "  6.30448922e-05 1.02981445e-04 1.11701003e-04 5.72230993e-03\n",
      "  1.03812003e-04 5.03629526e-05 2.32367121e-04 2.09268663e-04\n",
      "  2.93537829e-04 1.23968257e-05 8.01057831e-05 2.95499285e-05\n",
      "  2.90048571e-04 6.75229021e-05 2.57812571e-05 7.21440811e-05\n",
      "  1.16246963e-04 6.42070372e-05 7.67733945e-05 1.15753901e-04\n",
      "  7.20782700e-05 6.41032166e-05 2.48517554e-05 3.89520792e-05\n",
      "  5.89029441e-05 3.32286982e-05 5.09117344e-05 2.92660960e-04\n",
      "  6.50962975e-05 7.90121703e-05 6.16319958e-05 4.67008758e-05\n",
      "  1.05072766e-04 2.03024174e-04 3.18031962e-04 9.67867672e-05\n",
      "  3.34325450e-05 1.41765282e-04 1.80815550e-04 1.69840001e-04\n",
      "  9.93919530e-05 1.68585975e-04 6.88353102e-05 4.18262825e-05\n",
      "  4.21374061e-05 9.85076549e-05 1.44388847e-04 4.32394765e-04\n",
      "  3.12489952e-04 3.39258026e-04 1.00501908e-04 6.35231263e-05\n",
      "  7.67432357e-05 3.14271019e-05 1.84316348e-04 2.35926680e-04\n",
      "  1.70895437e-04 3.39647435e-04 1.02856691e-04 1.32304587e-04\n",
      "  2.45685747e-04 1.60030861e-04 6.97279975e-05 1.58546260e-04\n",
      "  4.14394890e-05 8.43612288e-05 1.55475009e-05 4.91840590e-04\n",
      "  4.52794993e-05 2.97140999e-04 8.91871096e-05 2.37721877e-04\n",
      "  1.23152538e-04 2.19990179e-04 1.38825751e-04 3.62453029e-05\n",
      "  5.24488023e-05 4.72940665e-05 2.84090318e-04 2.17301698e-04\n",
      "  4.34624584e-04 1.19329721e-04 4.23060264e-04 1.15689349e-04\n",
      "  4.78791699e-05 1.67336082e-04 1.14218477e-04 1.33729394e-04\n",
      "  1.26904386e-04 5.51386584e-05 5.10727950e-05 1.30753338e-04\n",
      "  9.57043376e-05 5.45520124e-05 4.75846537e-05 6.16280595e-05\n",
      "  2.04760479e-04 2.03564312e-04 1.44224541e-04 1.91579064e-04\n",
      "  4.91604907e-04 1.76880974e-04 1.34848451e-04 3.11739859e-04\n",
      "  1.26404935e-04 1.79272451e-04 1.11008601e-04 1.18535994e-04\n",
      "  2.57924723e-04 1.00126788e-04 5.51605917e-05 2.05833494e-04\n",
      "  4.69556580e-05 2.56668391e-05 6.85175910e-05 2.18220030e-05\n",
      "  1.10613793e-04 5.43979841e-05 1.13618349e-04 6.37196499e-05\n",
      "  3.87252148e-05 1.11514419e-04 5.76241837e-05 1.79503171e-04]]\n"
     ]
    },
    {
     "name": "stdout",
     "output_type": "stream",
     "text": [
      "average(sec):0.00,fps:411.08\n"
     ]
    }
   ],
   "source": [
    "# test FP32 TR-TRT\n",
    "import time\n",
    "times = []\n",
    "\n",
    "one_prediction = tf_sess.run(output_tensor, feed_dict)\n",
    "print(one_prediction)\n",
    "\n",
    "for i in range(200):\n",
    "    start_time = time.time()\n",
    "    one_prediction = tf_sess.run(output_tensor, feed_dict)\n",
    "    delta = (time.time() - start_time)\n",
    "    times.append(delta)\n",
    "mean_delta = np.array(times).mean()\n",
    "fps = 1 / mean_delta\n",
    "print('average(sec):{:.2f},fps:{:.2f}'.format(mean_delta, fps))"
   ]
  },
  {
   "cell_type": "code",
   "execution_count": 4,
   "metadata": {},
   "outputs": [
    {
     "data": {
      "text/plain": [
       "386"
      ]
     },
     "execution_count": 4,
     "metadata": {},
     "output_type": "execute_result"
    }
   ],
   "source": [
    "np.argmax(one_prediction)"
   ]
  },
  {
   "cell_type": "code",
   "execution_count": null,
   "metadata": {},
   "outputs": [],
   "source": []
  }
 ],
 "metadata": {
  "kernelspec": {
   "display_name": "Python 3",
   "language": "python",
   "name": "python3"
  },
  "language_info": {
   "codemirror_mode": {
    "name": "ipython",
    "version": 3
   },
   "file_extension": ".py",
   "mimetype": "text/x-python",
   "name": "python",
   "nbconvert_exporter": "python",
   "pygments_lexer": "ipython3",
   "version": "3.6.7"
  }
 },
 "nbformat": 4,
 "nbformat_minor": 4
}
